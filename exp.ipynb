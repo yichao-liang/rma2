{
 "cells": [
  {
   "cell_type": "markdown",
   "id": "67848520-2fd0-4c2a-b4d0-d050af329122",
   "metadata": {},
   "source": [
    "### Test randomized environment"
   ]
  },
  {
   "cell_type": "code",
   "execution_count": 9,
   "id": "b3da907a-686b-4768-8ad7-248dda5edad8",
   "metadata": {},
   "outputs": [],
   "source": [
    "import gym\n",
    "import numpy as np\n",
    "from task import gym_task_map"
   ]
  },
  {
   "cell_type": "code",
   "execution_count": 5,
   "id": "49b81097-6348-4f3f-a1d3-86f9bcfaf3eb",
   "metadata": {},
   "outputs": [
    {
     "name": "stderr",
     "output_type": "stream",
     "text": [
      "[2023-07-04 15:32:03.803] [svulkan2] [error] GLFW error: X11: The DISPLAY environment variable is missing\n",
      "[2023-07-04 15:32:03.803] [svulkan2] [warning] Continue without GLFW.\n"
     ]
    }
   ],
   "source": [
    "env_id = 'DR-PickCube-v0'\n",
    "\n",
    "env = gym.make(env_id)"
   ]
  },
  {
   "cell_type": "code",
   "execution_count": 16,
   "id": "b59bc77e-826d-47e5-9908-5ea16ffd3acc",
   "metadata": {},
   "outputs": [
    {
     "data": {
      "text/plain": [
       "array([1.7066666e-05, 1.7066666e-05, 1.7066666e-05], dtype=float32)"
      ]
     },
     "execution_count": 16,
     "metadata": {},
     "output_type": "execute_result"
    }
   ],
   "source": [
    "env.obj.get_inertia()"
   ]
  },
  {
   "cell_type": "code",
   "execution_count": 10,
   "id": "e4618e3a-763e-48c4-8662-a56adc1c2f5a",
   "metadata": {},
   "outputs": [],
   "source": [
    "rg = np.random.RandomState(42)"
   ]
  },
  {
   "cell_type": "code",
   "execution_count": 11,
   "id": "b2bdc3ae-fda3-4043-8f6e-88d754546bc0",
   "metadata": {},
   "outputs": [
    {
     "data": {
      "text/plain": [
       "array([-0.25091976,  0.90142861,  0.46398788])"
      ]
     },
     "execution_count": 11,
     "metadata": {},
     "output_type": "execute_result"
    }
   ],
   "source": [
    "rg.uniform(-1, 1, size=3)"
   ]
  },
  {
   "cell_type": "code",
   "execution_count": 20,
   "id": "3fa33b21-d749-470b-8cda-91b0bc54b86f",
   "metadata": {},
   "outputs": [
    {
     "data": {
      "text/plain": [
       "Box([-1. -1. -1. -1. -1. -1. -1. -1.], [1. 1. 1. 1. 1. 1. 1. 1.], (8,), float32)"
      ]
     },
     "execution_count": 20,
     "metadata": {},
     "output_type": "execute_result"
    }
   ],
   "source": [
    "env.agent.action_space"
   ]
  },
  {
   "cell_type": "code",
   "execution_count": 18,
   "id": "deab4377-cadd-4625-b931-e011d056557f",
   "metadata": {},
   "outputs": [
    {
     "data": {
      "text/plain": [
       "<sapien.core.pysapien.Articulation at 0x2b48571abdb0>"
      ]
     },
     "execution_count": 18,
     "metadata": {},
     "output_type": "execute_result"
    }
   ],
   "source": [
    "env.agent.robot"
   ]
  },
  {
   "cell_type": "markdown",
   "id": "6eff0555-23f3-4937-b437-730f1b79a888",
   "metadata": {},
   "source": [
    "### Test mesh processing"
   ]
  },
  {
   "cell_type": "code",
   "execution_count": null,
   "id": "10465f59-66cc-4389-8c4f-54f9a96c9613",
   "metadata": {},
   "outputs": [],
   "source": [
    "import sys\n",
    "'''Modify Python's path: You can add the root directory of your MeshCNN project \n",
    "to sys.path at runtime, before the import statements are executed.\n",
    "'''\n",
    "sys.path.insert(0, './MeshCNN')"
   ]
  },
  {
   "cell_type": "code",
   "execution_count": 6,
   "id": "9314e204-7751-411d-a5dc-54ec0fba3f6a",
   "metadata": {},
   "outputs": [],
   "source": [
    "import gym\n",
    "from task import gym_task_map"
   ]
  },
  {
   "cell_type": "markdown",
   "id": "c0bac2f6-e334-4d4f-8d65-f6d47c144fa6",
   "metadata": {},
   "source": [
    "fix: Modify Python's path: You can add the root directory of your MeshCNN project to sys.path at runtime, before the import statements are executed.\n",
    "\n",
    "python\n",
    "Copy code\n",
    "import sys\n",
    "sys.path.insert(0, '/path/to/MeshCNN')\n",
    "from MeshCNN.models.layers.mesh import Mesh\n",
    "Replace '/path/to/MeshCNN' with the actual path to the directory that contains MeshCNN. This way, when Python sees from models.layers.mesh_union import MeshUnion in mesh.py, it will look in the correct directory."
   ]
  },
  {
   "cell_type": "code",
   "execution_count": null,
   "id": "97285b5f-4cdf-4e1d-8b26-408ed15d2f01",
   "metadata": {},
   "outputs": [],
   "source": [
    "gym.make(\"PickSingleYCB-v0\")"
   ]
  },
  {
   "cell_type": "code",
   "execution_count": null,
   "id": "c0dcd521-c551-46a7-a63d-8a72fb3d709a",
   "metadata": {},
   "outputs": [],
   "source": [
    "gym.reset()"
   ]
  }
 ],
 "metadata": {
  "kernelspec": {
   "display_name": "Python 3 (ipykernel)",
   "language": "python",
   "name": "python3"
  },
  "language_info": {
   "codemirror_mode": {
    "name": "ipython",
    "version": 3
   },
   "file_extension": ".py",
   "mimetype": "text/x-python",
   "name": "python",
   "nbconvert_exporter": "python",
   "pygments_lexer": "ipython3",
   "version": "3.11.3"
  }
 },
 "nbformat": 4,
 "nbformat_minor": 5
}
